{
 "cells": [
  {
   "cell_type": "code",
   "execution_count": 2,
   "metadata": {},
   "outputs": [],
   "source": [
    "# importing necessary packages\n",
    "import numpy as np\n",
    "import pandas as pd\n",
    "import datetime as dt"
   ]
  },
  {
   "cell_type": "code",
   "execution_count": 4,
   "metadata": {},
   "outputs": [
    {
     "data": {
      "text/html": [
       "<div>\n",
       "<style scoped>\n",
       "    .dataframe tbody tr th:only-of-type {\n",
       "        vertical-align: middle;\n",
       "    }\n",
       "\n",
       "    .dataframe tbody tr th {\n",
       "        vertical-align: top;\n",
       "    }\n",
       "\n",
       "    .dataframe thead th {\n",
       "        text-align: right;\n",
       "    }\n",
       "</style>\n",
       "<table border=\"1\" class=\"dataframe\">\n",
       "  <thead>\n",
       "    <tr style=\"text-align: right;\">\n",
       "      <th></th>\n",
       "      <th>name</th>\n",
       "      <th>Birth Month</th>\n",
       "      <th>Birth Year</th>\n",
       "      <th>Day</th>\n",
       "      <th>Height</th>\n",
       "      <th>Remarks</th>\n",
       "    </tr>\n",
       "  </thead>\n",
       "  <tbody>\n",
       "    <tr>\n",
       "      <th>1</th>\n",
       "      <td>David</td>\n",
       "      <td>5</td>\n",
       "      <td>88</td>\n",
       "      <td>1st Monday</td>\n",
       "      <td>2'0''</td>\n",
       "      <td>Boy  with Left biggerfoot and Right dominant hand</td>\n",
       "    </tr>\n",
       "    <tr>\n",
       "      <th>2</th>\n",
       "      <td>Lars</td>\n",
       "      <td>10</td>\n",
       "      <td>87</td>\n",
       "      <td>3rd Tuesday</td>\n",
       "      <td>2'1''</td>\n",
       "      <td>Boy  with Left biggerfoot and Left dominant hand</td>\n",
       "    </tr>\n",
       "    <tr>\n",
       "      <th>3</th>\n",
       "      <td>Zach</td>\n",
       "      <td>12</td>\n",
       "      <td>87</td>\n",
       "      <td>2nd Saturday</td>\n",
       "      <td>2'0''</td>\n",
       "      <td>Boy  with Right biggerfoot and Right dominant ...</td>\n",
       "    </tr>\n",
       "    <tr>\n",
       "      <th>4</th>\n",
       "      <td>Josh</td>\n",
       "      <td>1</td>\n",
       "      <td>88</td>\n",
       "      <td>1st Tuesday</td>\n",
       "      <td>2'1''</td>\n",
       "      <td>Boy  with Left biggerfoot and Right dominant hand</td>\n",
       "    </tr>\n",
       "    <tr>\n",
       "      <th>5</th>\n",
       "      <td>Lang</td>\n",
       "      <td>2</td>\n",
       "      <td>88</td>\n",
       "      <td>1st Monday</td>\n",
       "      <td>2'1''</td>\n",
       "      <td>Boy  with Left biggerfoot and Right dominant hand</td>\n",
       "    </tr>\n",
       "  </tbody>\n",
       "</table>\n",
       "</div>"
      ],
      "text/plain": [
       "    name  Birth Month  Birth Year           Day Height  \\\n",
       "1  David            5          88    1st Monday  2'0''   \n",
       "2   Lars           10          87   3rd Tuesday  2'1''   \n",
       "3   Zach           12          87  2nd Saturday  2'0''   \n",
       "4   Josh            1          88   1st Tuesday  2'1''   \n",
       "5   Lang            2          88    1st Monday  2'1''   \n",
       "\n",
       "                                             Remarks  \n",
       "1  Boy  with Left biggerfoot and Right dominant hand  \n",
       "2   Boy  with Left biggerfoot and Left dominant hand  \n",
       "3  Boy  with Right biggerfoot and Right dominant ...  \n",
       "4  Boy  with Left biggerfoot and Right dominant hand  \n",
       "5  Boy  with Left biggerfoot and Right dominant hand  "
      ]
     },
     "execution_count": 4,
     "metadata": {},
     "output_type": "execute_result"
    }
   ],
   "source": [
    "child = pd.read_csv('Child_data (1).csv', index_col=0)\n",
    "child.head(5)   # index_col=0 is used because not use the first column while loading the data"
   ]
  },
  {
   "cell_type": "code",
   "execution_count": 5,
   "metadata": {},
   "outputs": [
    {
     "data": {
      "text/plain": [
       "(39, 6)"
      ]
     },
     "execution_count": 5,
     "metadata": {},
     "output_type": "execute_result"
    }
   ],
   "source": [
    "# Basic checks\n",
    "child.shape"
   ]
  },
  {
   "cell_type": "code",
   "execution_count": 6,
   "metadata": {},
   "outputs": [
    {
     "data": {
      "text/plain": [
       "name           0\n",
       "Birth Month    0\n",
       "Birth Year     0\n",
       "Day            0\n",
       "Height         0\n",
       "Remarks        0\n",
       "dtype: int64"
      ]
     },
     "execution_count": 6,
     "metadata": {},
     "output_type": "execute_result"
    }
   ],
   "source": [
    "child.isnull().sum() #NaN check"
   ]
  },
  {
   "cell_type": "code",
   "execution_count": 5,
   "metadata": {},
   "outputs": [
    {
     "name": "stdout",
     "output_type": "stream",
     "text": [
      "<class 'pandas.core.frame.DataFrame'>\n",
      "Int64Index: 39 entries, 1 to 39\n",
      "Data columns (total 6 columns):\n",
      "name           39 non-null object\n",
      "Birth Month    39 non-null int64\n",
      "Birth Year     39 non-null int64\n",
      "Day            39 non-null object\n",
      "Height         39 non-null object\n",
      "Remarks        39 non-null object\n",
      "dtypes: int64(2), object(4)\n",
      "memory usage: 2.1+ KB\n"
     ]
    }
   ],
   "source": [
    "child.info() # Column child type check"
   ]
  },
  {
   "cell_type": "markdown",
   "metadata": {},
   "source": [
    "### Converting height in cms from feet and inches value"
   ]
  },
  {
   "cell_type": "code",
   "execution_count": 6,
   "metadata": {},
   "outputs": [
    {
     "data": {
      "text/plain": [
       "[60.96,\n",
       " 63.5,\n",
       " 60.96,\n",
       " 63.5,\n",
       " 63.5,\n",
       " 63.5,\n",
       " 66.04,\n",
       " 58.42,\n",
       " 58.42,\n",
       " 55.88,\n",
       " 68.58,\n",
       " 60.96,\n",
       " 66.04,\n",
       " 68.58,\n",
       " 66.04,\n",
       " 58.42,\n",
       " 60.96,\n",
       " 60.96,\n",
       " 66.04,\n",
       " 63.5,\n",
       " 60.96,\n",
       " 60.96,\n",
       " 60.96,\n",
       " 60.96,\n",
       " 60.96,\n",
       " 68.58,\n",
       " 66.04,\n",
       " 63.5,\n",
       " 60.96,\n",
       " 58.42,\n",
       " 60.96,\n",
       " 55.88,\n",
       " 60.96,\n",
       " 58.42,\n",
       " 60.96,\n",
       " 55.88,\n",
       " 66.04,\n",
       " 53.34,\n",
       " 60.96]"
      ]
     },
     "execution_count": 6,
     "metadata": {},
     "output_type": "execute_result"
    }
   ],
   "source": [
    "# Calculate Height in cms\n",
    "ht_in_cms=[]\n",
    "for ht in child.Height :\n",
    "    sData = ht.split(\"'\")    # split feet and inches value\n",
    "    ht_in_cms.append((int(sData[0]) * 12 + int(sData[1])) * 2.54) # convert feet to inches and then multiply by 2.54\n",
    "\n",
    "ht_in_cms"
   ]
  },
  {
   "cell_type": "code",
   "execution_count": 7,
   "metadata": {},
   "outputs": [
    {
     "data": {
      "text/html": [
       "<div>\n",
       "<style scoped>\n",
       "    .dataframe tbody tr th:only-of-type {\n",
       "        vertical-align: middle;\n",
       "    }\n",
       "\n",
       "    .dataframe tbody tr th {\n",
       "        vertical-align: top;\n",
       "    }\n",
       "\n",
       "    .dataframe thead th {\n",
       "        text-align: right;\n",
       "    }\n",
       "</style>\n",
       "<table border=\"1\" class=\"dataframe\">\n",
       "  <thead>\n",
       "    <tr style=\"text-align: right;\">\n",
       "      <th></th>\n",
       "      <th>name</th>\n",
       "      <th>Birth Month</th>\n",
       "      <th>Birth Year</th>\n",
       "      <th>Day</th>\n",
       "      <th>Height</th>\n",
       "      <th>Remarks</th>\n",
       "      <th>Height (in cms)</th>\n",
       "    </tr>\n",
       "  </thead>\n",
       "  <tbody>\n",
       "    <tr>\n",
       "      <td>1</td>\n",
       "      <td>David</td>\n",
       "      <td>5</td>\n",
       "      <td>88</td>\n",
       "      <td>1st Monday</td>\n",
       "      <td>2'0''</td>\n",
       "      <td>Boy  with Left biggerfoot and Right dominant hand</td>\n",
       "      <td>60.96</td>\n",
       "    </tr>\n",
       "    <tr>\n",
       "      <td>2</td>\n",
       "      <td>Lars</td>\n",
       "      <td>10</td>\n",
       "      <td>87</td>\n",
       "      <td>3rd Tuesday</td>\n",
       "      <td>2'1''</td>\n",
       "      <td>Boy  with Left biggerfoot and Left dominant hand</td>\n",
       "      <td>63.50</td>\n",
       "    </tr>\n",
       "  </tbody>\n",
       "</table>\n",
       "</div>"
      ],
      "text/plain": [
       "    name  Birth Month  Birth Year          Day Height  \\\n",
       "1  David            5          88   1st Monday  2'0''   \n",
       "2   Lars           10          87  3rd Tuesday  2'1''   \n",
       "\n",
       "                                             Remarks  Height (in cms)  \n",
       "1  Boy  with Left biggerfoot and Right dominant hand            60.96  \n",
       "2   Boy  with Left biggerfoot and Left dominant hand            63.50  "
      ]
     },
     "execution_count": 7,
     "metadata": {},
     "output_type": "execute_result"
    }
   ],
   "source": [
    "# Create new height column    \n",
    "child['Height (in cms)'] = ht_in_cms\n",
    "child.head(2)"
   ]
  },
  {
   "cell_type": "markdown",
   "metadata": {},
   "source": [
    "### checking gender,Biggger foot and dominant hand"
   ]
  },
  {
   "cell_type": "code",
   "execution_count": 8,
   "metadata": {},
   "outputs": [
    {
     "data": {
      "text/html": [
       "<div>\n",
       "<style scoped>\n",
       "    .dataframe tbody tr th:only-of-type {\n",
       "        vertical-align: middle;\n",
       "    }\n",
       "\n",
       "    .dataframe tbody tr th {\n",
       "        vertical-align: top;\n",
       "    }\n",
       "\n",
       "    .dataframe thead th {\n",
       "        text-align: right;\n",
       "    }\n",
       "</style>\n",
       "<table border=\"1\" class=\"dataframe\">\n",
       "  <thead>\n",
       "    <tr style=\"text-align: right;\">\n",
       "      <th></th>\n",
       "      <th>name</th>\n",
       "      <th>Birth Month</th>\n",
       "      <th>Birth Year</th>\n",
       "      <th>Day</th>\n",
       "      <th>Height</th>\n",
       "      <th>Remarks</th>\n",
       "      <th>Height (in cms)</th>\n",
       "      <th>Gender</th>\n",
       "      <th>Bigger Foot</th>\n",
       "      <th>Dominant Hand</th>\n",
       "    </tr>\n",
       "  </thead>\n",
       "  <tbody>\n",
       "    <tr>\n",
       "      <td>35</td>\n",
       "      <td>Peter</td>\n",
       "      <td>4</td>\n",
       "      <td>88</td>\n",
       "      <td>2nd Saturday</td>\n",
       "      <td>2'0''</td>\n",
       "      <td>Boy  with Right biggerfoot and Left dominant hand</td>\n",
       "      <td>60.96</td>\n",
       "      <td>Male</td>\n",
       "      <td>R</td>\n",
       "      <td>L</td>\n",
       "    </tr>\n",
       "    <tr>\n",
       "      <td>36</td>\n",
       "      <td>Hannah</td>\n",
       "      <td>3</td>\n",
       "      <td>88</td>\n",
       "      <td>1st Sunday</td>\n",
       "      <td>1'10''</td>\n",
       "      <td>Girl  with Left biggerfoot and Right dominant ...</td>\n",
       "      <td>55.88</td>\n",
       "      <td>Female</td>\n",
       "      <td>L</td>\n",
       "      <td>R</td>\n",
       "    </tr>\n",
       "    <tr>\n",
       "      <td>37</td>\n",
       "      <td>Teshanna</td>\n",
       "      <td>3</td>\n",
       "      <td>88</td>\n",
       "      <td>1st Thursday</td>\n",
       "      <td>2'2''</td>\n",
       "      <td>Girl  with Left biggerfoot and Right dominant ...</td>\n",
       "      <td>66.04</td>\n",
       "      <td>Female</td>\n",
       "      <td>L</td>\n",
       "      <td>R</td>\n",
       "    </tr>\n",
       "    <tr>\n",
       "      <td>38</td>\n",
       "      <td>Hayley</td>\n",
       "      <td>1</td>\n",
       "      <td>88</td>\n",
       "      <td>2nd Thursday</td>\n",
       "      <td>1'9''</td>\n",
       "      <td>Girl  with Right biggerfoot and Right dominant...</td>\n",
       "      <td>53.34</td>\n",
       "      <td>Female</td>\n",
       "      <td>R</td>\n",
       "      <td>R</td>\n",
       "    </tr>\n",
       "    <tr>\n",
       "      <td>39</td>\n",
       "      <td>Alisha</td>\n",
       "      <td>9</td>\n",
       "      <td>88</td>\n",
       "      <td>4th Sunday</td>\n",
       "      <td>2'0''</td>\n",
       "      <td>Girl  with Left biggerfoot and Right dominant ...</td>\n",
       "      <td>60.96</td>\n",
       "      <td>Female</td>\n",
       "      <td>L</td>\n",
       "      <td>R</td>\n",
       "    </tr>\n",
       "  </tbody>\n",
       "</table>\n",
       "</div>"
      ],
      "text/plain": [
       "        name  Birth Month  Birth Year           Day  Height  \\\n",
       "35     Peter            4          88  2nd Saturday   2'0''   \n",
       "36    Hannah            3          88    1st Sunday  1'10''   \n",
       "37  Teshanna            3          88  1st Thursday   2'2''   \n",
       "38    Hayley            1          88  2nd Thursday   1'9''   \n",
       "39    Alisha            9          88    4th Sunday   2'0''   \n",
       "\n",
       "                                              Remarks  Height (in cms)  \\\n",
       "35  Boy  with Right biggerfoot and Left dominant hand            60.96   \n",
       "36  Girl  with Left biggerfoot and Right dominant ...            55.88   \n",
       "37  Girl  with Left biggerfoot and Right dominant ...            66.04   \n",
       "38  Girl  with Right biggerfoot and Right dominant...            53.34   \n",
       "39  Girl  with Left biggerfoot and Right dominant ...            60.96   \n",
       "\n",
       "    Gender Bigger Foot Dominant Hand  \n",
       "35    Male           R             L  \n",
       "36  Female           L             R  \n",
       "37  Female           L             R  \n",
       "38  Female           R             R  \n",
       "39  Female           L             R  "
      ]
     },
     "execution_count": 8,
     "metadata": {},
     "output_type": "execute_result"
    }
   ],
   "source": [
    "\n",
    "gender=[]\n",
    "biggerFoot=[]\n",
    "dominantHand=[]\n",
    "for r in child.Remarks :\n",
    "    if 'Girl' in r :                                \n",
    "        gender.append('Female')\n",
    "    elif 'Boy' in r :  \n",
    "        gender.append('Male')\n",
    "    else :\n",
    "        gender.append('Nan')\n",
    "    \n",
    "    if 'Left biggerfoot' in r :\n",
    "        biggerFoot.append('L')\n",
    "    elif 'Right biggerfoot' in r :  \n",
    "        biggerFoot.append('R')\n",
    "    else :\n",
    "        biggerFoot.append('Nan')\n",
    "        \n",
    "    if 'Left dominant' in r :\n",
    "        dominantHand.append('L')\n",
    "    elif 'Right dominant' in r :  \n",
    "        dominantHand.append('R')\n",
    "    else :\n",
    "        dominantHand.append('Nan')\n",
    "\n",
    "data['Gender'] = gender\n",
    "data['Bigger Foot'] = biggerFoot\n",
    "data['Dominant Hand'] = dominantHand\n",
    "\n",
    "data.tail()"
   ]
  },
  {
   "cell_type": "code",
   "execution_count": 9,
   "metadata": {},
   "outputs": [
    {
     "data": {
      "text/plain": [
       "name               0\n",
       "Birth Month        0\n",
       "Birth Year         0\n",
       "Day                0\n",
       "Height             0\n",
       "Remarks            0\n",
       "Height (in cms)    0\n",
       "Gender             0\n",
       "Bigger Foot        0\n",
       "Dominant Hand      0\n",
       "dtype: int64"
      ]
     },
     "execution_count": 9,
     "metadata": {},
     "output_type": "execute_result"
    }
   ],
   "source": [
    "child.isnull().sum() # checking if any NaN was introduced"
   ]
  },
  {
   "cell_type": "markdown",
   "metadata": {},
   "source": [
    "#### spliting Day to week number and week day"
   ]
  },
  {
   "cell_type": "code",
   "execution_count": 10,
   "metadata": {},
   "outputs": [
    {
     "data": {
      "text/html": [
       "<div>\n",
       "<style scoped>\n",
       "    .dataframe tbody tr th:only-of-type {\n",
       "        vertical-align: middle;\n",
       "    }\n",
       "\n",
       "    .dataframe tbody tr th {\n",
       "        vertical-align: top;\n",
       "    }\n",
       "\n",
       "    .dataframe thead th {\n",
       "        text-align: right;\n",
       "    }\n",
       "</style>\n",
       "<table border=\"1\" class=\"dataframe\">\n",
       "  <thead>\n",
       "    <tr style=\"text-align: right;\">\n",
       "      <th></th>\n",
       "      <th>name</th>\n",
       "      <th>Birth Month</th>\n",
       "      <th>Birth Year</th>\n",
       "      <th>Day</th>\n",
       "      <th>Height</th>\n",
       "      <th>Remarks</th>\n",
       "      <th>Height (in cms)</th>\n",
       "      <th>Gender</th>\n",
       "      <th>Bigger Foot</th>\n",
       "      <th>Dominant Hand</th>\n",
       "      <th>Week</th>\n",
       "    </tr>\n",
       "  </thead>\n",
       "  <tbody>\n",
       "    <tr>\n",
       "      <td>1</td>\n",
       "      <td>David</td>\n",
       "      <td>5</td>\n",
       "      <td>88</td>\n",
       "      <td>Monday</td>\n",
       "      <td>2'0''</td>\n",
       "      <td>Boy  with Left biggerfoot and Right dominant hand</td>\n",
       "      <td>60.96</td>\n",
       "      <td>Male</td>\n",
       "      <td>L</td>\n",
       "      <td>R</td>\n",
       "      <td>1st</td>\n",
       "    </tr>\n",
       "    <tr>\n",
       "      <td>2</td>\n",
       "      <td>Lars</td>\n",
       "      <td>10</td>\n",
       "      <td>87</td>\n",
       "      <td>Tuesday</td>\n",
       "      <td>2'1''</td>\n",
       "      <td>Boy  with Left biggerfoot and Left dominant hand</td>\n",
       "      <td>63.50</td>\n",
       "      <td>Male</td>\n",
       "      <td>L</td>\n",
       "      <td>L</td>\n",
       "      <td>3rd</td>\n",
       "    </tr>\n",
       "  </tbody>\n",
       "</table>\n",
       "</div>"
      ],
      "text/plain": [
       "    name  Birth Month  Birth Year      Day Height  \\\n",
       "1  David            5          88   Monday  2'0''   \n",
       "2   Lars           10          87  Tuesday  2'1''   \n",
       "\n",
       "                                             Remarks  Height (in cms) Gender  \\\n",
       "1  Boy  with Left biggerfoot and Right dominant hand            60.96   Male   \n",
       "2   Boy  with Left biggerfoot and Left dominant hand            63.50   Male   \n",
       "\n",
       "  Bigger Foot Dominant Hand Week  \n",
       "1           L             R  1st  \n",
       "2           L             L  3rd  "
      ]
     },
     "execution_count": 10,
     "metadata": {},
     "output_type": "execute_result"
    }
   ],
   "source": [
    "\n",
    "week=[]\n",
    "day=[]\n",
    "for d in child.Day:\n",
    "    sData = d.split(' ')\n",
    "    week.append(sData[0])\n",
    "    day.append(sData[1])\n",
    "child['Week'] = week\n",
    "child['Day'] = day\n",
    "\n",
    "data.head(2)"
   ]
  },
  {
   "cell_type": "markdown",
   "metadata": {},
   "source": [
    "####  Converting Day to numerical representation"
   ]
  },
  {
   "cell_type": "code",
   "execution_count": 11,
   "metadata": {},
   "outputs": [
    {
     "name": "stderr",
     "output_type": "stream",
     "text": [
      "C:\\Users\\s7s16\\Anaconda3\\lib\\site-packages\\ipykernel_launcher.py:5: SettingWithCopyWarning: \n",
      "A value is trying to be set on a copy of a slice from a DataFrame\n",
      "\n",
      "See the caveats in the documentation: http://pandas.pydata.org/pandas-docs/stable/user_guide/indexing.html#returning-a-view-versus-a-copy\n",
      "  \"\"\"\n"
     ]
    }
   ],
   "source": [
    "\n",
    "days = {'Monday':0,'Tuesday':1,'Wednesday':2,'Thursday':3,'Friday':4,'Saturday':5,'Sunday':6}\n",
    "index =1\n",
    "for d in child.Day :\n",
    "    child.Day[index] = days[d]\n",
    "    index += 1"
   ]
  },
  {
   "cell_type": "markdown",
   "metadata": {},
   "source": [
    "#### Converting Week number to numerical representation"
   ]
  },
  {
   "cell_type": "code",
   "execution_count": 12,
   "metadata": {},
   "outputs": [
    {
     "data": {
      "text/html": [
       "<div>\n",
       "<style scoped>\n",
       "    .dataframe tbody tr th:only-of-type {\n",
       "        vertical-align: middle;\n",
       "    }\n",
       "\n",
       "    .dataframe tbody tr th {\n",
       "        vertical-align: top;\n",
       "    }\n",
       "\n",
       "    .dataframe thead th {\n",
       "        text-align: right;\n",
       "    }\n",
       "</style>\n",
       "<table border=\"1\" class=\"dataframe\">\n",
       "  <thead>\n",
       "    <tr style=\"text-align: right;\">\n",
       "      <th></th>\n",
       "      <th>name</th>\n",
       "      <th>Birth Month</th>\n",
       "      <th>Birth Year</th>\n",
       "      <th>Day</th>\n",
       "      <th>Height</th>\n",
       "      <th>Remarks</th>\n",
       "      <th>Height (in cms)</th>\n",
       "      <th>Gender</th>\n",
       "      <th>Bigger Foot</th>\n",
       "      <th>Dominant Hand</th>\n",
       "      <th>Week</th>\n",
       "    </tr>\n",
       "  </thead>\n",
       "  <tbody>\n",
       "    <tr>\n",
       "      <td>1</td>\n",
       "      <td>David</td>\n",
       "      <td>5</td>\n",
       "      <td>88</td>\n",
       "      <td>0</td>\n",
       "      <td>2'0''</td>\n",
       "      <td>Boy  with Left biggerfoot and Right dominant hand</td>\n",
       "      <td>60.96</td>\n",
       "      <td>Male</td>\n",
       "      <td>L</td>\n",
       "      <td>R</td>\n",
       "      <td>1</td>\n",
       "    </tr>\n",
       "    <tr>\n",
       "      <td>2</td>\n",
       "      <td>Lars</td>\n",
       "      <td>10</td>\n",
       "      <td>87</td>\n",
       "      <td>1</td>\n",
       "      <td>2'1''</td>\n",
       "      <td>Boy  with Left biggerfoot and Left dominant hand</td>\n",
       "      <td>63.50</td>\n",
       "      <td>Male</td>\n",
       "      <td>L</td>\n",
       "      <td>L</td>\n",
       "      <td>3</td>\n",
       "    </tr>\n",
       "  </tbody>\n",
       "</table>\n",
       "</div>"
      ],
      "text/plain": [
       "    name  Birth Month  Birth Year Day Height  \\\n",
       "1  David            5          88   0  2'0''   \n",
       "2   Lars           10          87   1  2'1''   \n",
       "\n",
       "                                             Remarks  Height (in cms) Gender  \\\n",
       "1  Boy  with Left biggerfoot and Right dominant hand            60.96   Male   \n",
       "2   Boy  with Left biggerfoot and Left dominant hand            63.50   Male   \n",
       "\n",
       "  Bigger Foot Dominant Hand  Week  \n",
       "1           L             R     1  \n",
       "2           L             L     3  "
      ]
     },
     "execution_count": 12,
     "metadata": {},
     "output_type": "execute_result"
    }
   ],
   "source": [
    "\n",
    "child.Week.replace(to_replace='1st',value=1,inplace=True)\n",
    "child.Week.replace(to_replace='2nd',value=2,inplace=True)\n",
    "child.Week.replace(to_replace='3rd',value=3,inplace=True)\n",
    "child.Week.replace(to_replace='4th',value=4,inplace=True)\n",
    "\n",
    "child.head(2)"
   ]
  },
  {
   "cell_type": "markdown",
   "metadata": {},
   "source": [
    "#### changing Format of year from yy to yyyy"
   ]
  },
  {
   "cell_type": "code",
   "execution_count": 13,
   "metadata": {},
   "outputs": [
    {
     "name": "stderr",
     "output_type": "stream",
     "text": [
      "C:\\Users\\s7s16\\Anaconda3\\lib\\site-packages\\ipykernel_launcher.py:5: SettingWithCopyWarning: \n",
      "A value is trying to be set on a copy of a slice from a DataFrame\n",
      "\n",
      "See the caveats in the documentation: http://pandas.pydata.org/pandas-docs/stable/user_guide/indexing.html#returning-a-view-versus-a-copy\n",
      "  \"\"\"\n"
     ]
    }
   ],
   "source": [
    "# changing year from yy to yyyy\n",
    "child['Birth Year'] = child['Birth Year'].astype(str)\n",
    "index = 1\n",
    "for by in child['Birth Year'] :\n",
    "    child['Birth Year'][index] = dt.datetime.strptime(by,'%y').strftime('%Y')\n",
    "    index += 1\n",
    "child['Birth Year'] = child['Birth Year'].astype('int64')"
   ]
  },
  {
   "cell_type": "code",
   "execution_count": null,
   "metadata": {},
   "outputs": [],
   "source": []
  },
  {
   "cell_type": "code",
   "execution_count": 14,
   "metadata": {},
   "outputs": [
    {
     "data": {
      "text/html": [
       "<div>\n",
       "<style scoped>\n",
       "    .dataframe tbody tr th:only-of-type {\n",
       "        vertical-align: middle;\n",
       "    }\n",
       "\n",
       "    .dataframe tbody tr th {\n",
       "        vertical-align: top;\n",
       "    }\n",
       "\n",
       "    .dataframe thead th {\n",
       "        text-align: right;\n",
       "    }\n",
       "</style>\n",
       "<table border=\"1\" class=\"dataframe\">\n",
       "  <thead>\n",
       "    <tr style=\"text-align: right;\">\n",
       "      <th></th>\n",
       "      <th>name</th>\n",
       "      <th>Birth Month</th>\n",
       "      <th>Birth Year</th>\n",
       "      <th>Day</th>\n",
       "      <th>Height</th>\n",
       "      <th>Remarks</th>\n",
       "      <th>Height (in cms)</th>\n",
       "      <th>Gender</th>\n",
       "      <th>Bigger Foot</th>\n",
       "      <th>Dominant Hand</th>\n",
       "      <th>Week</th>\n",
       "    </tr>\n",
       "  </thead>\n",
       "  <tbody>\n",
       "    <tr>\n",
       "      <td>1</td>\n",
       "      <td>David</td>\n",
       "      <td>5</td>\n",
       "      <td>1988</td>\n",
       "      <td>0</td>\n",
       "      <td>2'0''</td>\n",
       "      <td>Boy  with Left biggerfoot and Right dominant hand</td>\n",
       "      <td>60.96</td>\n",
       "      <td>Male</td>\n",
       "      <td>L</td>\n",
       "      <td>R</td>\n",
       "      <td>1</td>\n",
       "    </tr>\n",
       "    <tr>\n",
       "      <td>2</td>\n",
       "      <td>Lars</td>\n",
       "      <td>10</td>\n",
       "      <td>1987</td>\n",
       "      <td>1</td>\n",
       "      <td>2'1''</td>\n",
       "      <td>Boy  with Left biggerfoot and Left dominant hand</td>\n",
       "      <td>63.50</td>\n",
       "      <td>Male</td>\n",
       "      <td>L</td>\n",
       "      <td>L</td>\n",
       "      <td>3</td>\n",
       "    </tr>\n",
       "  </tbody>\n",
       "</table>\n",
       "</div>"
      ],
      "text/plain": [
       "    name  Birth Month  Birth Year Day Height  \\\n",
       "1  David            5        1988   0  2'0''   \n",
       "2   Lars           10        1987   1  2'1''   \n",
       "\n",
       "                                             Remarks  Height (in cms) Gender  \\\n",
       "1  Boy  with Left biggerfoot and Right dominant hand            60.96   Male   \n",
       "2   Boy  with Left biggerfoot and Left dominant hand            63.50   Male   \n",
       "\n",
       "  Bigger Foot Dominant Hand  Week  \n",
       "1           L             R     1  \n",
       "2           L             L     3  "
      ]
     },
     "execution_count": 14,
     "metadata": {},
     "output_type": "execute_result"
    }
   ],
   "source": [
    "child.head(2)"
   ]
  },
  {
   "cell_type": "markdown",
   "metadata": {},
   "source": [
    "####  Calculate 1st day value of each month"
   ]
  },
  {
   "cell_type": "code",
   "execution_count": 15,
   "metadata": {},
   "outputs": [
    {
     "data": {
      "text/html": [
       "<div>\n",
       "<style scoped>\n",
       "    .dataframe tbody tr th:only-of-type {\n",
       "        vertical-align: middle;\n",
       "    }\n",
       "\n",
       "    .dataframe tbody tr th {\n",
       "        vertical-align: top;\n",
       "    }\n",
       "\n",
       "    .dataframe thead th {\n",
       "        text-align: right;\n",
       "    }\n",
       "</style>\n",
       "<table border=\"1\" class=\"dataframe\">\n",
       "  <thead>\n",
       "    <tr style=\"text-align: right;\">\n",
       "      <th></th>\n",
       "      <th>name</th>\n",
       "      <th>Birth Month</th>\n",
       "      <th>Birth Year</th>\n",
       "      <th>Day</th>\n",
       "      <th>Height</th>\n",
       "      <th>Remarks</th>\n",
       "      <th>Height (in cms)</th>\n",
       "      <th>Gender</th>\n",
       "      <th>Bigger Foot</th>\n",
       "      <th>Dominant Hand</th>\n",
       "      <th>Week</th>\n",
       "      <th>Day_1</th>\n",
       "    </tr>\n",
       "  </thead>\n",
       "  <tbody>\n",
       "    <tr>\n",
       "      <td>1</td>\n",
       "      <td>David</td>\n",
       "      <td>5</td>\n",
       "      <td>1988</td>\n",
       "      <td>0</td>\n",
       "      <td>2'0''</td>\n",
       "      <td>Boy  with Left biggerfoot and Right dominant hand</td>\n",
       "      <td>60.96</td>\n",
       "      <td>Male</td>\n",
       "      <td>L</td>\n",
       "      <td>R</td>\n",
       "      <td>1</td>\n",
       "      <td>6</td>\n",
       "    </tr>\n",
       "    <tr>\n",
       "      <td>2</td>\n",
       "      <td>Lars</td>\n",
       "      <td>10</td>\n",
       "      <td>1987</td>\n",
       "      <td>1</td>\n",
       "      <td>2'1''</td>\n",
       "      <td>Boy  with Left biggerfoot and Left dominant hand</td>\n",
       "      <td>63.50</td>\n",
       "      <td>Male</td>\n",
       "      <td>L</td>\n",
       "      <td>L</td>\n",
       "      <td>3</td>\n",
       "      <td>3</td>\n",
       "    </tr>\n",
       "  </tbody>\n",
       "</table>\n",
       "</div>"
      ],
      "text/plain": [
       "    name  Birth Month  Birth Year Day Height  \\\n",
       "1  David            5        1988   0  2'0''   \n",
       "2   Lars           10        1987   1  2'1''   \n",
       "\n",
       "                                             Remarks  Height (in cms) Gender  \\\n",
       "1  Boy  with Left biggerfoot and Right dominant hand            60.96   Male   \n",
       "2   Boy  with Left biggerfoot and Left dominant hand            63.50   Male   \n",
       "\n",
       "  Bigger Foot Dominant Hand  Week  Day_1  \n",
       "1           L             R     1      6  \n",
       "2           L             L     3      3  "
      ]
     },
     "execution_count": 15,
     "metadata": {},
     "output_type": "execute_result"
    }
   ],
   "source": [
    "\n",
    "day_1= []\n",
    "index = 1\n",
    "for m in child['Birth Month'] :\n",
    "    day_1.append(dt.date(child['Birth Year'][index],child['Birth Month'][index],1).weekday())\n",
    "    index += 1\n",
    "child['Day_1'] = day_1\n",
    "child.head(2)"
   ]
  },
  {
   "cell_type": "code",
   "execution_count": 16,
   "metadata": {},
   "outputs": [
    {
     "name": "stdout",
     "output_type": "stream",
     "text": [
      "<class 'pandas.core.frame.DataFrame'>\n",
      "Int64Index: 39 entries, 1 to 39\n",
      "Data columns (total 12 columns):\n",
      "name               39 non-null object\n",
      "Birth Month        39 non-null int64\n",
      "Birth Year         39 non-null int64\n",
      "Day                39 non-null object\n",
      "Height             39 non-null object\n",
      "Remarks            39 non-null object\n",
      "Height (in cms)    39 non-null float64\n",
      "Gender             39 non-null object\n",
      "Bigger Foot        39 non-null object\n",
      "Dominant Hand      39 non-null object\n",
      "Week               39 non-null int64\n",
      "Day_1              39 non-null int64\n",
      "dtypes: float64(1), int64(4), object(7)\n",
      "memory usage: 5.2+ KB\n"
     ]
    }
   ],
   "source": [
    "data.info()"
   ]
  },
  {
   "cell_type": "code",
   "execution_count": 17,
   "metadata": {},
   "outputs": [],
   "source": [
    "child.Day = child.Day.astype('int64')"
   ]
  },
  {
   "cell_type": "markdown",
   "metadata": {},
   "source": [
    "# function to calculate birth date"
   ]
  },
  {
   "cell_type": "code",
   "execution_count": 1,
   "metadata": {},
   "outputs": [],
   "source": [
    "##### week_no - week in which birth day occurs\n",
    "#### day_no - Weekday representation from Monday=0 through Sunday=6\n",
    "#### day_1_no - Weekday representation for 1st of any given month\n",
    "def calculate_birth_date(week_no,day_no,day_1_no) :\n",
    "    birthDate = 7*week_no - (6-day_no)\n",
    "    if(day_1_no > day_no) :\n",
    "        birthDate += (7-day_1_no)\n",
    "    else :\n",
    "        birthDate -= day_1_no\n",
    "    return birthDate"
   ]
  },
  {
   "cell_type": "code",
   "execution_count": 19,
   "metadata": {},
   "outputs": [],
   "source": [
    "#Calculate birth date\n",
    "birth_date = []\n",
    "index = 1\n",
    "for d in child.Day :\n",
    "    birth_date.append(dt.date(child['Birth Year'][index],child['Birth Month'][index],calculate_birth_date(child.Week[index],child.Day[index],child.Day_1[index])))\n",
    "    index += 1"
   ]
  },
  {
   "cell_type": "code",
   "execution_count": 20,
   "metadata": {},
   "outputs": [
    {
     "data": {
      "text/html": [
       "<div>\n",
       "<style scoped>\n",
       "    .dataframe tbody tr th:only-of-type {\n",
       "        vertical-align: middle;\n",
       "    }\n",
       "\n",
       "    .dataframe tbody tr th {\n",
       "        vertical-align: top;\n",
       "    }\n",
       "\n",
       "    .dataframe thead th {\n",
       "        text-align: right;\n",
       "    }\n",
       "</style>\n",
       "<table border=\"1\" class=\"dataframe\">\n",
       "  <thead>\n",
       "    <tr style=\"text-align: right;\">\n",
       "      <th></th>\n",
       "      <th>name</th>\n",
       "      <th>Birth Date</th>\n",
       "      <th>Birth Month</th>\n",
       "      <th>Birth Year</th>\n",
       "      <th>Day</th>\n",
       "      <th>Height</th>\n",
       "      <th>Remarks</th>\n",
       "      <th>Height (in cms)</th>\n",
       "      <th>Gender</th>\n",
       "      <th>Bigger Foot</th>\n",
       "      <th>Dominant Hand</th>\n",
       "      <th>Week</th>\n",
       "      <th>Day_1</th>\n",
       "    </tr>\n",
       "  </thead>\n",
       "  <tbody>\n",
       "    <tr>\n",
       "      <td>1</td>\n",
       "      <td>David</td>\n",
       "      <td>1988-05-02</td>\n",
       "      <td>5</td>\n",
       "      <td>1988</td>\n",
       "      <td>0</td>\n",
       "      <td>2'0''</td>\n",
       "      <td>Boy  with Left biggerfoot and Right dominant hand</td>\n",
       "      <td>60.96</td>\n",
       "      <td>Male</td>\n",
       "      <td>L</td>\n",
       "      <td>R</td>\n",
       "      <td>1</td>\n",
       "      <td>6</td>\n",
       "    </tr>\n",
       "    <tr>\n",
       "      <td>2</td>\n",
       "      <td>Lars</td>\n",
       "      <td>1987-10-20</td>\n",
       "      <td>10</td>\n",
       "      <td>1987</td>\n",
       "      <td>1</td>\n",
       "      <td>2'1''</td>\n",
       "      <td>Boy  with Left biggerfoot and Left dominant hand</td>\n",
       "      <td>63.50</td>\n",
       "      <td>Male</td>\n",
       "      <td>L</td>\n",
       "      <td>L</td>\n",
       "      <td>3</td>\n",
       "      <td>3</td>\n",
       "    </tr>\n",
       "  </tbody>\n",
       "</table>\n",
       "</div>"
      ],
      "text/plain": [
       "    name  Birth Date  Birth Month  Birth Year  Day Height  \\\n",
       "1  David  1988-05-02            5        1988    0  2'0''   \n",
       "2   Lars  1987-10-20           10        1987    1  2'1''   \n",
       "\n",
       "                                             Remarks  Height (in cms) Gender  \\\n",
       "1  Boy  with Left biggerfoot and Right dominant hand            60.96   Male   \n",
       "2   Boy  with Left biggerfoot and Left dominant hand            63.50   Male   \n",
       "\n",
       "  Bigger Foot Dominant Hand  Week  Day_1  \n",
       "1           L             R     1      6  \n",
       "2           L             L     3      3  "
      ]
     },
     "execution_count": 20,
     "metadata": {},
     "output_type": "execute_result"
    }
   ],
   "source": [
    "child.insert(column = 'Birth Date', value = birth_date, loc =1)\n",
    "child.head(2)"
   ]
  },
  {
   "cell_type": "markdown",
   "metadata": {},
   "source": [
    "#### Changing birth date format\n"
   ]
  },
  {
   "cell_type": "code",
   "execution_count": 21,
   "metadata": {},
   "outputs": [
    {
     "name": "stderr",
     "output_type": "stream",
     "text": [
      "C:\\Users\\s7s16\\Anaconda3\\lib\\site-packages\\ipykernel_launcher.py:5: SettingWithCopyWarning: \n",
      "A value is trying to be set on a copy of a slice from a DataFrame\n",
      "\n",
      "See the caveats in the documentation: http://pandas.pydata.org/pandas-docs/stable/user_guide/indexing.html#returning-a-view-versus-a-copy\n",
      "  \"\"\"\n"
     ]
    },
    {
     "data": {
      "text/html": [
       "<div>\n",
       "<style scoped>\n",
       "    .dataframe tbody tr th:only-of-type {\n",
       "        vertical-align: middle;\n",
       "    }\n",
       "\n",
       "    .dataframe tbody tr th {\n",
       "        vertical-align: top;\n",
       "    }\n",
       "\n",
       "    .dataframe thead th {\n",
       "        text-align: right;\n",
       "    }\n",
       "</style>\n",
       "<table border=\"1\" class=\"dataframe\">\n",
       "  <thead>\n",
       "    <tr style=\"text-align: right;\">\n",
       "      <th></th>\n",
       "      <th>name</th>\n",
       "      <th>Birth Date</th>\n",
       "      <th>Birth Month</th>\n",
       "      <th>Birth Year</th>\n",
       "      <th>Day</th>\n",
       "      <th>Height</th>\n",
       "      <th>Remarks</th>\n",
       "      <th>Height (in cms)</th>\n",
       "      <th>Gender</th>\n",
       "      <th>Bigger Foot</th>\n",
       "      <th>Dominant Hand</th>\n",
       "      <th>Week</th>\n",
       "      <th>Day_1</th>\n",
       "    </tr>\n",
       "  </thead>\n",
       "  <tbody>\n",
       "    <tr>\n",
       "      <td>1</td>\n",
       "      <td>David</td>\n",
       "      <td>02-05-1988</td>\n",
       "      <td>5</td>\n",
       "      <td>1988</td>\n",
       "      <td>0</td>\n",
       "      <td>2'0''</td>\n",
       "      <td>Boy  with Left biggerfoot and Right dominant hand</td>\n",
       "      <td>60.96</td>\n",
       "      <td>Male</td>\n",
       "      <td>L</td>\n",
       "      <td>R</td>\n",
       "      <td>1</td>\n",
       "      <td>6</td>\n",
       "    </tr>\n",
       "    <tr>\n",
       "      <td>2</td>\n",
       "      <td>Lars</td>\n",
       "      <td>20-10-1987</td>\n",
       "      <td>10</td>\n",
       "      <td>1987</td>\n",
       "      <td>1</td>\n",
       "      <td>2'1''</td>\n",
       "      <td>Boy  with Left biggerfoot and Left dominant hand</td>\n",
       "      <td>63.50</td>\n",
       "      <td>Male</td>\n",
       "      <td>L</td>\n",
       "      <td>L</td>\n",
       "      <td>3</td>\n",
       "      <td>3</td>\n",
       "    </tr>\n",
       "  </tbody>\n",
       "</table>\n",
       "</div>"
      ],
      "text/plain": [
       "    name  Birth Date  Birth Month  Birth Year  Day Height  \\\n",
       "1  David  02-05-1988            5        1988    0  2'0''   \n",
       "2   Lars  20-10-1987           10        1987    1  2'1''   \n",
       "\n",
       "                                             Remarks  Height (in cms) Gender  \\\n",
       "1  Boy  with Left biggerfoot and Right dominant hand            60.96   Male   \n",
       "2   Boy  with Left biggerfoot and Left dominant hand            63.50   Male   \n",
       "\n",
       "  Bigger Foot Dominant Hand  Week  Day_1  \n",
       "1           L             R     1      6  \n",
       "2           L             L     3      3  "
      ]
     },
     "execution_count": 21,
     "metadata": {},
     "output_type": "execute_result"
    }
   ],
   "source": [
    "child['Birth Date'] = child['Birth Date'].astype('str')\n",
    "index = 1\n",
    "for by in child['Birth Date'] :\n",
    "    child['Birth Date'][index] = dt.datetime.strptime(by,'%Y-%m-%d').strftime('%d-%m-%Y')\n",
    "    index += 1\n",
    "child.head(2)"
   ]
  },
  {
   "cell_type": "code",
   "execution_count": 22,
   "metadata": {},
   "outputs": [],
   "source": [
    "X = child.loc[:,['name','Birth Date','Gender','Height (in cms)','Bigger Foot','Dominant Hand']]\n",
    "X.rename(columns ={'name' : 'Name'},inplace=True)"
   ]
  },
  {
   "cell_type": "code",
   "execution_count": 23,
   "metadata": {},
   "outputs": [],
   "source": [
    "X.to_csv('Child_data_updated.csv')"
   ]
  },
  {
   "cell_type": "code",
   "execution_count": null,
   "metadata": {},
   "outputs": [],
   "source": []
  }
 ],
 "metadata": {
  "kernelspec": {
   "display_name": "Python 3",
   "language": "python",
   "name": "python3"
  },
  "language_info": {
   "codemirror_mode": {
    "name": "ipython",
    "version": 3
   },
   "file_extension": ".py",
   "mimetype": "text/x-python",
   "name": "python",
   "nbconvert_exporter": "python",
   "pygments_lexer": "ipython3",
   "version": "3.7.3"
  }
 },
 "nbformat": 4,
 "nbformat_minor": 2
}
